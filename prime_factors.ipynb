{
 "cells": [
  {
   "cell_type": "code",
   "execution_count": 1,
   "metadata": {},
   "outputs": [
    {
     "name": "stdout",
     "output_type": "stream",
     "text": [
      "Find the Prime Factors of a Number\n",
      "Enter a number greater than 1     :  21403246502407449612644230728393335630086147151447550177977549208814180234471401366433455190958046796109928518724709145876873962619215573630474547705208051190564931066\n",
      "\n",
      "The Prime Factors of 21403246502407449612644230728393335630086147151447550177977549208814180234471401366433455190958046796109928518724709145876873962619215573630474547705208051190564931066 : \n",
      "\n",
      "[2, 3, 5, 11, 37, 214203295781]\n"
     ]
    }
   ],
   "source": [
    "import math\n",
    "\n",
    "print('Find the Prime Factors of a Number')\n",
    "n = input(\"Enter a number greater than 1     :  \")\n",
    "print()\n",
    "\n",
    "list_of_prime_factors = []\n",
    "\n",
    "def prime_factors(n): \n",
    "    # if the number is even, 2 is one of the prime factors\n",
    "    while n % 2 == 0: \n",
    "        list_of_prime_factors.append(int(2)) \n",
    "        n = n / 2\n",
    "    # Check only the odd numbers from 3 to sqrt(n)+1       \n",
    "    for i in range(3,int(math.sqrt(n))+1,2):  \n",
    "        while n % i == 0: \n",
    "            list_of_prime_factors.append(int(i)) \n",
    "            n = n / i \n",
    "    # Check if n is prime number greater than zero          \n",
    "    if n > 2: \n",
    "        list_of_prime_factors.append(int(n)) \n",
    "\n",
    "prime_factors(int(n)) \n",
    "print(\"The Prime Factors of\", n, \": \\n\")\n",
    "print(sorted(set(list_of_prime_factors)))"
   ]
  },
  {
   "cell_type": "code",
   "execution_count": null,
   "metadata": {},
   "outputs": [],
   "source": []
  }
 ],
 "metadata": {
  "kernelspec": {
   "display_name": "Python 3",
   "language": "python",
   "name": "python3"
  },
  "language_info": {
   "codemirror_mode": {
    "name": "ipython",
    "version": 3
   },
   "file_extension": ".py",
   "mimetype": "text/x-python",
   "name": "python",
   "nbconvert_exporter": "python",
   "pygments_lexer": "ipython3",
   "version": "3.7.4"
  }
 },
 "nbformat": 4,
 "nbformat_minor": 2
}
