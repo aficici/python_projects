{
 "cells": [
  {
   "cell_type": "code",
   "execution_count": 3,
   "metadata": {
    "ExecuteTime": {
     "end_time": "2020-12-02T06:03:23.627908Z",
     "start_time": "2020-12-02T06:03:23.345702Z"
    }
   },
   "outputs": [],
   "source": [
    "import datetime as dt\n",
    "import numpy as np\n",
    "import pandas as pd\n",
    "import pandas_datareader.data as web\n",
    "import matplotlib.pyplot as plt\n",
    "from matplotlib import style\n",
    "\n",
    "style.use('ggplot')\n"
   ]
  },
  {
   "cell_type": "code",
   "execution_count": 4,
   "metadata": {
    "ExecuteTime": {
     "end_time": "2020-12-02T06:03:25.575111Z",
     "start_time": "2020-12-02T06:03:25.572354Z"
    }
   },
   "outputs": [],
   "source": [
    "start = dt.datetime(2000,1,1)\n",
    "end = dt.datetime(2020,11,30)"
   ]
  },
  {
   "cell_type": "code",
   "execution_count": 5,
   "metadata": {
    "ExecuteTime": {
     "end_time": "2020-12-02T06:03:27.166565Z",
     "start_time": "2020-12-02T06:03:26.399162Z"
    }
   },
   "outputs": [],
   "source": [
    "df = web.DataReader('TSLA', 'yahoo', start, end)"
   ]
  },
  {
   "cell_type": "code",
   "execution_count": 6,
   "metadata": {
    "ExecuteTime": {
     "end_time": "2020-12-02T06:03:27.290860Z",
     "start_time": "2020-12-02T06:03:27.277244Z"
    }
   },
   "outputs": [
    {
     "data": {
      "text/html": [
       "<div>\n",
       "<style scoped>\n",
       "    .dataframe tbody tr th:only-of-type {\n",
       "        vertical-align: middle;\n",
       "    }\n",
       "\n",
       "    .dataframe tbody tr th {\n",
       "        vertical-align: top;\n",
       "    }\n",
       "\n",
       "    .dataframe thead th {\n",
       "        text-align: right;\n",
       "    }\n",
       "</style>\n",
       "<table border=\"1\" class=\"dataframe\">\n",
       "  <thead>\n",
       "    <tr style=\"text-align: right;\">\n",
       "      <th></th>\n",
       "      <th>High</th>\n",
       "      <th>Low</th>\n",
       "      <th>Open</th>\n",
       "      <th>Close</th>\n",
       "      <th>Volume</th>\n",
       "      <th>Adj Close</th>\n",
       "    </tr>\n",
       "    <tr>\n",
       "      <th>Date</th>\n",
       "      <th></th>\n",
       "      <th></th>\n",
       "      <th></th>\n",
       "      <th></th>\n",
       "      <th></th>\n",
       "      <th></th>\n",
       "    </tr>\n",
       "  </thead>\n",
       "  <tbody>\n",
       "    <tr>\n",
       "      <td>2010-06-29</td>\n",
       "      <td>5.000</td>\n",
       "      <td>3.508</td>\n",
       "      <td>3.800</td>\n",
       "      <td>4.778</td>\n",
       "      <td>93831500.0</td>\n",
       "      <td>4.778</td>\n",
       "    </tr>\n",
       "    <tr>\n",
       "      <td>2010-06-30</td>\n",
       "      <td>6.084</td>\n",
       "      <td>4.660</td>\n",
       "      <td>5.158</td>\n",
       "      <td>4.766</td>\n",
       "      <td>85935500.0</td>\n",
       "      <td>4.766</td>\n",
       "    </tr>\n",
       "    <tr>\n",
       "      <td>2010-07-01</td>\n",
       "      <td>5.184</td>\n",
       "      <td>4.054</td>\n",
       "      <td>5.000</td>\n",
       "      <td>4.392</td>\n",
       "      <td>41094000.0</td>\n",
       "      <td>4.392</td>\n",
       "    </tr>\n",
       "    <tr>\n",
       "      <td>2010-07-02</td>\n",
       "      <td>4.620</td>\n",
       "      <td>3.742</td>\n",
       "      <td>4.600</td>\n",
       "      <td>3.840</td>\n",
       "      <td>25699000.0</td>\n",
       "      <td>3.840</td>\n",
       "    </tr>\n",
       "    <tr>\n",
       "      <td>2010-07-06</td>\n",
       "      <td>4.000</td>\n",
       "      <td>3.166</td>\n",
       "      <td>4.000</td>\n",
       "      <td>3.222</td>\n",
       "      <td>34334500.0</td>\n",
       "      <td>3.222</td>\n",
       "    </tr>\n",
       "    <tr>\n",
       "      <td>2010-07-07</td>\n",
       "      <td>3.326</td>\n",
       "      <td>2.996</td>\n",
       "      <td>3.280</td>\n",
       "      <td>3.160</td>\n",
       "      <td>34608500.0</td>\n",
       "      <td>3.160</td>\n",
       "    </tr>\n",
       "    <tr>\n",
       "      <td>2010-07-08</td>\n",
       "      <td>3.504</td>\n",
       "      <td>3.114</td>\n",
       "      <td>3.228</td>\n",
       "      <td>3.492</td>\n",
       "      <td>38557000.0</td>\n",
       "      <td>3.492</td>\n",
       "    </tr>\n",
       "    <tr>\n",
       "      <td>2010-07-09</td>\n",
       "      <td>3.580</td>\n",
       "      <td>3.310</td>\n",
       "      <td>3.516</td>\n",
       "      <td>3.480</td>\n",
       "      <td>20253000.0</td>\n",
       "      <td>3.480</td>\n",
       "    </tr>\n",
       "    <tr>\n",
       "      <td>2010-07-12</td>\n",
       "      <td>3.614</td>\n",
       "      <td>3.400</td>\n",
       "      <td>3.590</td>\n",
       "      <td>3.410</td>\n",
       "      <td>11012500.0</td>\n",
       "      <td>3.410</td>\n",
       "    </tr>\n",
       "    <tr>\n",
       "      <td>2010-07-13</td>\n",
       "      <td>3.728</td>\n",
       "      <td>3.380</td>\n",
       "      <td>3.478</td>\n",
       "      <td>3.628</td>\n",
       "      <td>13400500.0</td>\n",
       "      <td>3.628</td>\n",
       "    </tr>\n",
       "  </tbody>\n",
       "</table>\n",
       "</div>"
      ],
      "text/plain": [
       "             High    Low   Open  Close      Volume  Adj Close\n",
       "Date                                                         \n",
       "2010-06-29  5.000  3.508  3.800  4.778  93831500.0      4.778\n",
       "2010-06-30  6.084  4.660  5.158  4.766  85935500.0      4.766\n",
       "2010-07-01  5.184  4.054  5.000  4.392  41094000.0      4.392\n",
       "2010-07-02  4.620  3.742  4.600  3.840  25699000.0      3.840\n",
       "2010-07-06  4.000  3.166  4.000  3.222  34334500.0      3.222\n",
       "2010-07-07  3.326  2.996  3.280  3.160  34608500.0      3.160\n",
       "2010-07-08  3.504  3.114  3.228  3.492  38557000.0      3.492\n",
       "2010-07-09  3.580  3.310  3.516  3.480  20253000.0      3.480\n",
       "2010-07-12  3.614  3.400  3.590  3.410  11012500.0      3.410\n",
       "2010-07-13  3.728  3.380  3.478  3.628  13400500.0      3.628"
      ]
     },
     "execution_count": 6,
     "metadata": {},
     "output_type": "execute_result"
    }
   ],
   "source": [
    "df.head(10)"
   ]
  },
  {
   "cell_type": "code",
   "execution_count": 7,
   "metadata": {
    "ExecuteTime": {
     "end_time": "2020-12-02T06:03:37.428720Z",
     "start_time": "2020-12-02T06:03:37.422536Z"
    }
   },
   "outputs": [
    {
     "name": "stdout",
     "output_type": "stream",
     "text": [
      "<class 'pandas.core.frame.DataFrame'>\n",
      "DatetimeIndex: 2625 entries, 2010-06-29 to 2020-11-30\n",
      "Data columns (total 6 columns):\n",
      "High         2625 non-null float64\n",
      "Low          2625 non-null float64\n",
      "Open         2625 non-null float64\n",
      "Close        2625 non-null float64\n",
      "Volume       2625 non-null float64\n",
      "Adj Close    2625 non-null float64\n",
      "dtypes: float64(6)\n",
      "memory usage: 143.6 KB\n"
     ]
    }
   ],
   "source": [
    "df.info()"
   ]
  },
  {
   "cell_type": "code",
   "execution_count": 8,
   "metadata": {
    "ExecuteTime": {
     "end_time": "2020-12-02T06:03:38.860940Z",
     "start_time": "2020-12-02T06:03:38.839034Z"
    }
   },
   "outputs": [
    {
     "data": {
      "text/html": [
       "<div>\n",
       "<style scoped>\n",
       "    .dataframe tbody tr th:only-of-type {\n",
       "        vertical-align: middle;\n",
       "    }\n",
       "\n",
       "    .dataframe tbody tr th {\n",
       "        vertical-align: top;\n",
       "    }\n",
       "\n",
       "    .dataframe thead th {\n",
       "        text-align: right;\n",
       "    }\n",
       "</style>\n",
       "<table border=\"1\" class=\"dataframe\">\n",
       "  <thead>\n",
       "    <tr style=\"text-align: right;\">\n",
       "      <th></th>\n",
       "      <th>High</th>\n",
       "      <th>Low</th>\n",
       "      <th>Open</th>\n",
       "      <th>Close</th>\n",
       "      <th>Volume</th>\n",
       "      <th>Adj Close</th>\n",
       "    </tr>\n",
       "  </thead>\n",
       "  <tbody>\n",
       "    <tr>\n",
       "      <td>count</td>\n",
       "      <td>2625.000000</td>\n",
       "      <td>2625.000000</td>\n",
       "      <td>2625.000000</td>\n",
       "      <td>2625.000000</td>\n",
       "      <td>2.625000e+03</td>\n",
       "      <td>2625.000000</td>\n",
       "    </tr>\n",
       "    <tr>\n",
       "      <td>mean</td>\n",
       "      <td>57.202224</td>\n",
       "      <td>54.691591</td>\n",
       "      <td>55.971822</td>\n",
       "      <td>56.003476</td>\n",
       "      <td>3.059420e+07</td>\n",
       "      <td>56.003476</td>\n",
       "    </tr>\n",
       "    <tr>\n",
       "      <td>std</td>\n",
       "      <td>79.433685</td>\n",
       "      <td>74.987931</td>\n",
       "      <td>77.278734</td>\n",
       "      <td>77.358146</td>\n",
       "      <td>2.833555e+07</td>\n",
       "      <td>77.358146</td>\n",
       "    </tr>\n",
       "    <tr>\n",
       "      <td>min</td>\n",
       "      <td>3.326000</td>\n",
       "      <td>2.996000</td>\n",
       "      <td>3.228000</td>\n",
       "      <td>3.160000</td>\n",
       "      <td>5.925000e+05</td>\n",
       "      <td>3.160000</td>\n",
       "    </tr>\n",
       "    <tr>\n",
       "      <td>25%</td>\n",
       "      <td>7.544000</td>\n",
       "      <td>7.240000</td>\n",
       "      <td>7.328000</td>\n",
       "      <td>7.370000</td>\n",
       "      <td>1.074350e+07</td>\n",
       "      <td>7.370000</td>\n",
       "    </tr>\n",
       "    <tr>\n",
       "      <td>50%</td>\n",
       "      <td>45.034000</td>\n",
       "      <td>43.619999</td>\n",
       "      <td>44.363998</td>\n",
       "      <td>44.198002</td>\n",
       "      <td>2.404750e+07</td>\n",
       "      <td>44.198002</td>\n",
       "    </tr>\n",
       "    <tr>\n",
       "      <td>75%</td>\n",
       "      <td>61.354000</td>\n",
       "      <td>59.068001</td>\n",
       "      <td>60.200001</td>\n",
       "      <td>60.230000</td>\n",
       "      <td>3.959700e+07</td>\n",
       "      <td>60.230000</td>\n",
       "    </tr>\n",
       "    <tr>\n",
       "      <td>max</td>\n",
       "      <td>607.799988</td>\n",
       "      <td>578.450012</td>\n",
       "      <td>602.210022</td>\n",
       "      <td>585.760010</td>\n",
       "      <td>3.046940e+08</td>\n",
       "      <td>585.760010</td>\n",
       "    </tr>\n",
       "  </tbody>\n",
       "</table>\n",
       "</div>"
      ],
      "text/plain": [
       "              High          Low         Open        Close        Volume  \\\n",
       "count  2625.000000  2625.000000  2625.000000  2625.000000  2.625000e+03   \n",
       "mean     57.202224    54.691591    55.971822    56.003476  3.059420e+07   \n",
       "std      79.433685    74.987931    77.278734    77.358146  2.833555e+07   \n",
       "min       3.326000     2.996000     3.228000     3.160000  5.925000e+05   \n",
       "25%       7.544000     7.240000     7.328000     7.370000  1.074350e+07   \n",
       "50%      45.034000    43.619999    44.363998    44.198002  2.404750e+07   \n",
       "75%      61.354000    59.068001    60.200001    60.230000  3.959700e+07   \n",
       "max     607.799988   578.450012   602.210022   585.760010  3.046940e+08   \n",
       "\n",
       "         Adj Close  \n",
       "count  2625.000000  \n",
       "mean     56.003476  \n",
       "std      77.358146  \n",
       "min       3.160000  \n",
       "25%       7.370000  \n",
       "50%      44.198002  \n",
       "75%      60.230000  \n",
       "max     585.760010  "
      ]
     },
     "execution_count": 8,
     "metadata": {},
     "output_type": "execute_result"
    }
   ],
   "source": [
    "df.describe()"
   ]
  },
  {
   "cell_type": "code",
   "execution_count": null,
   "metadata": {
    "ExecuteTime": {
     "end_time": "2020-11-30T01:09:06.488200Z",
     "start_time": "2020-11-30T01:09:06.483636Z"
    }
   },
   "outputs": [],
   "source": [
    "x = df[['High', 'Low', 'Open','Volume']].values\n",
    "y = df['Close'].values"
   ]
  },
  {
   "cell_type": "code",
   "execution_count": null,
   "metadata": {
    "ExecuteTime": {
     "end_time": "2020-11-30T01:09:37.109916Z",
     "start_time": "2020-11-30T01:09:36.010004Z"
    }
   },
   "outputs": [],
   "source": [
    "from sklearn.model_selection import train_test_split\n",
    "from sklearn.linear_model import LinearRegression"
   ]
  },
  {
   "cell_type": "code",
   "execution_count": null,
   "metadata": {
    "ExecuteTime": {
     "end_time": "2020-11-30T01:09:58.465239Z",
     "start_time": "2020-11-30T01:09:58.460491Z"
    }
   },
   "outputs": [],
   "source": [
    "x_train, x_test, y_train, y_test = train_test_split(x,y,test_size = 0.2, random_state = 1)"
   ]
  },
  {
   "cell_type": "code",
   "execution_count": null,
   "metadata": {
    "ExecuteTime": {
     "end_time": "2020-11-30T01:10:18.676599Z",
     "start_time": "2020-11-30T01:10:18.674661Z"
    }
   },
   "outputs": [],
   "source": [
    "reg = LinearRegression()"
   ]
  },
  {
   "cell_type": "code",
   "execution_count": null,
   "metadata": {
    "ExecuteTime": {
     "end_time": "2020-11-30T01:10:33.081341Z",
     "start_time": "2020-11-30T01:10:32.740595Z"
    }
   },
   "outputs": [],
   "source": [
    "reg.fit(x_train,y_train)"
   ]
  },
  {
   "cell_type": "code",
   "execution_count": null,
   "metadata": {
    "ExecuteTime": {
     "end_time": "2020-11-30T01:11:02.747367Z",
     "start_time": "2020-11-30T01:11:02.743881Z"
    }
   },
   "outputs": [],
   "source": [
    "print(reg.coef_)"
   ]
  },
  {
   "cell_type": "code",
   "execution_count": null,
   "metadata": {
    "ExecuteTime": {
     "end_time": "2020-11-30T01:11:42.153855Z",
     "start_time": "2020-11-30T01:11:42.150685Z"
    }
   },
   "outputs": [],
   "source": [
    "predicts = reg.predict(x_test)"
   ]
  },
  {
   "cell_type": "code",
   "execution_count": null,
   "metadata": {
    "ExecuteTime": {
     "end_time": "2020-11-30T01:11:56.640412Z",
     "start_time": "2020-11-30T01:11:56.636392Z"
    }
   },
   "outputs": [],
   "source": [
    "new = pd.DataFrame({ 'Actual' : y_test.flatten(), 'Predicted' : predicts.flatten()})"
   ]
  },
  {
   "cell_type": "code",
   "execution_count": null,
   "metadata": {
    "ExecuteTime": {
     "end_time": "2020-11-30T01:12:12.886598Z",
     "start_time": "2020-11-30T01:12:12.876799Z"
    }
   },
   "outputs": [],
   "source": [
    "new.head(30)"
   ]
  },
  {
   "cell_type": "code",
   "execution_count": null,
   "metadata": {
    "ExecuteTime": {
     "end_time": "2020-11-30T01:12:55.225659Z",
     "start_time": "2020-11-30T01:12:55.220781Z"
    }
   },
   "outputs": [],
   "source": [
    "from sklearn import metrics\n",
    "import math\n",
    "print(\" MSE: \", metrics.mean_absolute_error(y_test,predicts))\n",
    "print(\" RMSE: \", math.sqrt(metrics.mean_absolute_error(y_test,predicts)))"
   ]
  },
  {
   "cell_type": "code",
   "execution_count": null,
   "metadata": {
    "ExecuteTime": {
     "end_time": "2020-11-30T01:43:19.329271Z",
     "start_time": "2020-11-30T01:43:18.951081Z"
    }
   },
   "outputs": [],
   "source": [
    "graph = new.tail(30)\n",
    "graph.plot(figsize=(20,10), linewidth= 5, fontsize=20, kind = 'bar')"
   ]
  },
  {
   "cell_type": "code",
   "execution_count": null,
   "metadata": {
    "ExecuteTime": {
     "end_time": "2020-11-30T01:44:14.485338Z",
     "start_time": "2020-11-30T01:44:14.330718Z"
    }
   },
   "outputs": [],
   "source": [
    "graph.plot(figsize=(20,10), linewidth= 5, fontsize=20)\n",
    "plt.xticks()\n",
    "plt.ylabel('Tesla Stock Price', fontsize=20)\n",
    "plt.xlabel('Day', fontsize=20)\n",
    "plt.show()"
   ]
  },
  {
   "cell_type": "code",
   "execution_count": null,
   "metadata": {},
   "outputs": [],
   "source": []
  }
 ],
 "metadata": {
  "kernelspec": {
   "display_name": "Python 3",
   "language": "python",
   "name": "python3"
  },
  "language_info": {
   "codemirror_mode": {
    "name": "ipython",
    "version": 3
   },
   "file_extension": ".py",
   "mimetype": "text/x-python",
   "name": "python",
   "nbconvert_exporter": "python",
   "pygments_lexer": "ipython3",
   "version": "3.7.4"
  },
  "toc": {
   "base_numbering": 1,
   "nav_menu": {},
   "number_sections": true,
   "sideBar": true,
   "skip_h1_title": false,
   "title_cell": "Table of Contents",
   "title_sidebar": "Contents",
   "toc_cell": false,
   "toc_position": {},
   "toc_section_display": true,
   "toc_window_display": false
  }
 },
 "nbformat": 4,
 "nbformat_minor": 2
}
