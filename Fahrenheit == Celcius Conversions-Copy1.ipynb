{
 "cells": [
  {
   "cell_type": "markdown",
   "metadata": {},
   "source": [
    "Example 1:"
   ]
  },
  {
   "cell_type": "code",
   "execution_count": 23,
   "metadata": {},
   "outputs": [
    {
     "name": "stdout",
     "output_type": "stream",
     "text": [
      "0 degrees Fahrenheit = -17.77777777777778 degrees Celcius.\n"
     ]
    }
   ],
   "source": [
    "fahrenheit = 0\n",
    "celcius = (fahrenheit - 32) * 5/9\n",
    "print(str(fahrenheit) + \" degrees Fahrenheit = \" + str(celcius) + \" degrees Celcius.\")"
   ]
  },
  {
   "cell_type": "markdown",
   "metadata": {},
   "source": [
    "Example 2:"
   ]
  },
  {
   "cell_type": "code",
   "execution_count": 21,
   "metadata": {},
   "outputs": [
    {
     "name": "stdout",
     "output_type": "stream",
     "text": [
      "32 degrees Fahrenheit = 0.0 degrees Celcius.\n"
     ]
    }
   ],
   "source": [
    "fahrenheit = 32\n",
    "celcius = (fahrenheit - 32) * 5/9\n",
    "print(str(fahrenheit) + \" degrees Fahrenheit = \" + str(celcius) + \" degrees Celcius.\")"
   ]
  },
  {
   "cell_type": "markdown",
   "metadata": {},
   "source": [
    "Example 3: (with input)"
   ]
  },
  {
   "cell_type": "code",
   "execution_count": 25,
   "metadata": {},
   "outputs": [
    {
     "name": "stdout",
     "output_type": "stream",
     "text": [
      "Enter the degrees Fahrenheit:  64\n",
      "64 degrees Fahrenheit = 17.77777777777778 degrees Celcius.\n"
     ]
    }
   ],
   "source": [
    "fahrenheit = input('Enter the degrees Fahrenheit:  ')\n",
    "celcius = (float(fahrenheit) - 32) * 5/9\n",
    "print(str(fahrenheit) + \" degrees Fahrenheit = \" + str(celcius) + \" degrees Celcius.\")"
   ]
  },
  {
   "cell_type": "markdown",
   "metadata": {},
   "source": [
    "Example 4:(with function and 2 digit float)"
   ]
  },
  {
   "cell_type": "code",
   "execution_count": null,
   "metadata": {},
   "outputs": [],
   "source": [
    "def conv_fahr_cels(fahrenheit):\n",
    "    celcius = (float(fahrenheit) - 32) * 5/9\n",
    "    print((str(\"%.2f\" % celcius)) + \" degrees Celcius is \" + str(fahrenheit) + \" degrees Fahrenheit.\")\n",
    "conv_fahr_cels(12.5)"
   ]
  },
  {
   "cell_type": "code",
   "execution_count": null,
   "metadata": {},
   "outputs": [],
   "source": [
    "Example 5: (with function and 1 digit float)"
   ]
  },
  {
   "cell_type": "code",
   "execution_count": null,
   "metadata": {},
   "outputs": [],
   "source": [
    "fahrenheit = input('Enter the degrees Fahrenheit: ')\n",
    "def conv_fahr_cels(fahrenheit):\n",
    "    celcius = (float(fahrenheit) - 32) * 5/9\n",
    "    print((str(\"%.1f\" % celcius)) + \" degrees Celcius is \" + str(fahrenheit) + \" degrees Fahrenheit.\")\n",
    "conv_fahr_cels(fahrenheit)"
   ]
  },
  {
   "cell_type": "markdown",
   "metadata": {},
   "source": [
    "Convert Celcius to Fahrenheit\n",
    "Example 1:"
   ]
  },
  {
   "cell_type": "code",
   "execution_count": null,
   "metadata": {},
   "outputs": [],
   "source": [
    "celcius = 0\n",
    "fahrenheit = celcius * 9/5 + 32\n",
    "print(fahrenheit)"
   ]
  },
  {
   "cell_type": "markdown",
   "metadata": {},
   "source": [
    "Example 2: "
   ]
  },
  {
   "cell_type": "code",
   "execution_count": null,
   "metadata": {},
   "outputs": [],
   "source": [
    "celcius = input('Enter degrees in Celcius: ')\n",
    "fahrenheit = float(celcius) * 9/5 + 32\n",
    "print(fahrenheit)"
   ]
  },
  {
   "cell_type": "markdown",
   "metadata": {},
   "source": [
    "Example 3:"
   ]
  },
  {
   "cell_type": "code",
   "execution_count": 3,
   "metadata": {},
   "outputs": [
    {
     "name": "stdout",
     "output_type": "stream",
     "text": [
      "Enter degrees in Celcius: 0\n",
      "32.0\n"
     ]
    }
   ],
   "source": [
    "celcius = input('Enter degrees in Celcius: ')\n",
    "def celcius_to_fahrenheit(celcius):\n",
    "    fahrenheit = float(celcius) * 1.8 + 32\n",
    "    print(fahrenheit)\n",
    "celcius_to_fahrenheit(celcius)"
   ]
  },
  {
   "cell_type": "markdown",
   "metadata": {},
   "source": [
    "Example 4:"
   ]
  },
  {
   "cell_type": "code",
   "execution_count": 8,
   "metadata": {},
   "outputs": [
    {
     "name": "stdout",
     "output_type": "stream",
     "text": [
      "Enter degrees in Celcius: 17.987654321\n",
      "64.3777777778\n"
     ]
    }
   ],
   "source": [
    "celcius = input('Enter degrees in Celcius: ')\n",
    "def celcius_to_fahrenheit(celcius):\n",
    "    return float(celcius) * 1.8 + 32\n",
    "fahrenheit = celcius_to_fahrenheit(celcius)\n",
    "print(fahrenheit)"
   ]
  },
  {
   "cell_type": "markdown",
   "metadata": {},
   "source": [
    "Example 5:"
   ]
  },
  {
   "cell_type": "code",
   "execution_count": 13,
   "metadata": {},
   "outputs": [
    {
     "name": "stdout",
     "output_type": "stream",
     "text": [
      "Enter degrees in Celcius: 17.987654321\n",
      "17.987654321 degrees Celcius is 64.38 degrees Fahrenheit\n"
     ]
    }
   ],
   "source": [
    "celcius = input('Enter degrees in Celcius: ')\n",
    "def celcius_to_fahrenheit(celcius):\n",
    "    return float(celcius) * 1.8 + 32\n",
    "fahrenheit = celcius_to_fahrenheit(celcius)\n",
    "print(celcius + \" degrees Celcius is \" + \"%.2f\" % fahrenheit + \" degrees Fahrenheit\")"
   ]
  },
  {
   "cell_type": "markdown",
   "metadata": {},
   "source": [
    "Example 6:"
   ]
  },
  {
   "cell_type": "code",
   "execution_count": 15,
   "metadata": {},
   "outputs": [
    {
     "name": "stdout",
     "output_type": "stream",
     "text": [
      "Enter degrees in Celcius: 0\n",
      "0 degrees Celcius is 32.00 degrees Fahrenheit\n"
     ]
    }
   ],
   "source": [
    "celcius = input('Enter degrees in Celcius: ')\n",
    "def celcius_to_fahrenheit(celcius):\n",
    "    return float(celcius) * 1.8 + 32\n",
    "print(celcius + \" degrees Celcius is \" + \"%.2f\" % celcius_to_fahrenheit(celcius) + \" degrees Fahrenheit\")"
   ]
  },
  {
   "cell_type": "code",
   "execution_count": null,
   "metadata": {},
   "outputs": [],
   "source": []
  }
 ],
 "metadata": {
  "kernelspec": {
   "display_name": "Python 3",
   "language": "python",
   "name": "python3"
  },
  "language_info": {
   "codemirror_mode": {
    "name": "ipython",
    "version": 3
   },
   "file_extension": ".py",
   "mimetype": "text/x-python",
   "name": "python",
   "nbconvert_exporter": "python",
   "pygments_lexer": "ipython3",
   "version": "3.7.4"
  }
 },
 "nbformat": 4,
 "nbformat_minor": 2
}
